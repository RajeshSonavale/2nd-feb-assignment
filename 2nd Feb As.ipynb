{
 "cells": [
  {
   "cell_type": "code",
   "execution_count": 1,
   "id": "3f6e5434-b06b-4d75-a402-e0941e675f01",
   "metadata": {},
   "outputs": [],
   "source": [
    "\n",
    "#2nd Feb Assignment"
   ]
  },
  {
   "cell_type": "code",
   "execution_count": null,
   "id": "0cf48fe4-1212-4393-832c-bba065defc65",
   "metadata": {},
   "outputs": [],
   "source": [
    "#Q 1:\n",
    "#For Loop:\n",
    "#  for loop is a control flow statement that executes code repeateddly for a particular number of iterations.\n",
    "#in this control flow statement,the keyword used is for. the loop is used when the number of iterations is already known.\n",
    "\n",
    "\n",
    "#Example of for loop\n",
    "# n=[1,2,3]    initialization\n",
    "# for i in n:    condtion and updation\n",
    " #     print(i)\n",
    "    \n",
    "# While loop: a loop that executed a single statement or a group of statement for the given true condition.\n",
    "# the keyword is used to represent this loop is \"While\". A while loop is used when the number of iteration is unknown.\n",
    "# the statement repeats itself till the boolean value becomes false.\n",
    "\n",
    "#Example of while loop\n",
    "# i=1    initialization\n",
    "#while i<6:    condition\n",
    "#   print(i)\n",
    "#   i=i+1        updation"
   ]
  },
  {
   "cell_type": "code",
   "execution_count": 1,
   "id": "271d63ed-4f13-4082-8cf4-b7a3abd49500",
   "metadata": {},
   "outputs": [
    {
     "name": "stdout",
     "output_type": "stream",
     "text": [
      "55\n",
      "3628800\n"
     ]
    }
   ],
   "source": [
    "# Q2 Ans\n",
    "# part 1 :  for loop\n",
    "sum=0\n",
    "product=1\n",
    "for i in range(1,11):\n",
    "    sum=sum+i\n",
    "    product=product*i\n",
    "print(sum)\n",
    "print(product)"
   ]
  },
  {
   "cell_type": "code",
   "execution_count": 2,
   "id": "8f15dc34-c45d-4186-b185-eadae3c6c86c",
   "metadata": {},
   "outputs": [
    {
     "name": "stdout",
     "output_type": "stream",
     "text": [
      "55\n",
      "3628800\n"
     ]
    }
   ],
   "source": [
    "# Q2 Ans:\n",
    "#part 2: while loop\n",
    "sum=0\n",
    "product=1\n",
    "i=1\n",
    "while(i<=10):\n",
    "    sum=sum+i\n",
    "    product=product*i\n",
    "    i=i+1\n",
    "print(sum)\n",
    "print(product)"
   ]
  },
  {
   "cell_type": "code",
   "execution_count": 1,
   "id": "1442ce10-74f6-4827-934c-91d84df9cbac",
   "metadata": {},
   "outputs": [
    {
     "name": "stdin",
     "output_type": "stream",
     "text": [
      "Enter your  elctricity consumed unit 310\n"
     ]
    },
    {
     "name": "stdout",
     "output_type": "stream",
     "text": [
      "2250.0\n"
     ]
    }
   ],
   "source": [
    "#Q3 Ans:\n",
    "n= int(input(\"Enter your  elctricity consumed unit\"))\n",
    "if n<=100:\n",
    "    charge=n*4.5\n",
    "    print(charge)\n",
    "elif n>100 and n<=200:\n",
    "    charge=100*4.5+(n-100)*6\n",
    "    \n",
    "    print(charge)\n",
    "elif n<200 and n>=300:\n",
    "    charge=100*4.5+100*6+(n-200)*10\n",
    "    print(charge)\n",
    "else:\n",
    "    charge=100*4.5+100*6+100*10+(n-300)*20\n",
    "    print(charge)\n",
    "    "
   ]
  },
  {
   "cell_type": "code",
   "execution_count": 4,
   "id": "02ea1e67-d6df-4f4a-afde-14ba6d211351",
   "metadata": {},
   "outputs": [],
   "source": [
    "#Q4 ans: for loop\n",
    "l=[]\n",
    "for i in range(1,101):\n",
    "    cube = i**3\n",
    "    if cube%4==0 or cube%5==0:\n",
    "        l.append(cube)"
   ]
  },
  {
   "cell_type": "code",
   "execution_count": 5,
   "id": "577e4cbb-d0c9-45fa-96d6-4b15726bac75",
   "metadata": {},
   "outputs": [
    {
     "data": {
      "text/plain": [
       "[8,\n",
       " 64,\n",
       " 125,\n",
       " 216,\n",
       " 512,\n",
       " 1000,\n",
       " 1728,\n",
       " 2744,\n",
       " 3375,\n",
       " 4096,\n",
       " 5832,\n",
       " 8000,\n",
       " 10648,\n",
       " 13824,\n",
       " 15625,\n",
       " 17576,\n",
       " 21952,\n",
       " 27000,\n",
       " 32768,\n",
       " 39304,\n",
       " 42875,\n",
       " 46656,\n",
       " 54872,\n",
       " 64000,\n",
       " 74088,\n",
       " 85184,\n",
       " 91125,\n",
       " 97336,\n",
       " 110592,\n",
       " 125000,\n",
       " 140608,\n",
       " 157464,\n",
       " 166375,\n",
       " 175616,\n",
       " 195112,\n",
       " 216000,\n",
       " 238328,\n",
       " 262144,\n",
       " 274625,\n",
       " 287496,\n",
       " 314432,\n",
       " 343000,\n",
       " 373248,\n",
       " 405224,\n",
       " 421875,\n",
       " 438976,\n",
       " 474552,\n",
       " 512000,\n",
       " 551368,\n",
       " 592704,\n",
       " 614125,\n",
       " 636056,\n",
       " 681472,\n",
       " 729000,\n",
       " 778688,\n",
       " 830584,\n",
       " 857375,\n",
       " 884736,\n",
       " 941192,\n",
       " 1000000]"
      ]
     },
     "execution_count": 5,
     "metadata": {},
     "output_type": "execute_result"
    }
   ],
   "source": [
    "l"
   ]
  },
  {
   "cell_type": "code",
   "execution_count": 9,
   "id": "0f30cc77-70ff-4239-9e94-44d2e9fbd648",
   "metadata": {},
   "outputs": [],
   "source": [
    "#Q4: using while loop\n",
    "l1=[]\n",
    "i=1\n",
    "while i<=100:\n",
    "    cube=i**3\n",
    "    i=i+1\n",
    "    if cube%4==0 or cube%5==0:\n",
    "        l1.append(cube)"
   ]
  },
  {
   "cell_type": "code",
   "execution_count": 10,
   "id": "3935b7cc-3bb8-4f0f-8e46-eb29f54b867c",
   "metadata": {},
   "outputs": [
    {
     "data": {
      "text/plain": [
       "[8,\n",
       " 64,\n",
       " 125,\n",
       " 216,\n",
       " 512,\n",
       " 1000,\n",
       " 1728,\n",
       " 2744,\n",
       " 3375,\n",
       " 4096,\n",
       " 5832,\n",
       " 8000,\n",
       " 10648,\n",
       " 13824,\n",
       " 15625,\n",
       " 17576,\n",
       " 21952,\n",
       " 27000,\n",
       " 32768,\n",
       " 39304,\n",
       " 42875,\n",
       " 46656,\n",
       " 54872,\n",
       " 64000,\n",
       " 74088,\n",
       " 85184,\n",
       " 91125,\n",
       " 97336,\n",
       " 110592,\n",
       " 125000,\n",
       " 140608,\n",
       " 157464,\n",
       " 166375,\n",
       " 175616,\n",
       " 195112,\n",
       " 216000,\n",
       " 238328,\n",
       " 262144,\n",
       " 274625,\n",
       " 287496,\n",
       " 314432,\n",
       " 343000,\n",
       " 373248,\n",
       " 405224,\n",
       " 421875,\n",
       " 438976,\n",
       " 474552,\n",
       " 512000,\n",
       " 551368,\n",
       " 592704,\n",
       " 614125,\n",
       " 636056,\n",
       " 681472,\n",
       " 729000,\n",
       " 778688,\n",
       " 830584,\n",
       " 857375,\n",
       " 884736,\n",
       " 941192,\n",
       " 1000000]"
      ]
     },
     "execution_count": 10,
     "metadata": {},
     "output_type": "execute_result"
    }
   ],
   "source": [
    "l1"
   ]
  },
  {
   "cell_type": "code",
   "execution_count": 45,
   "id": "07eb612c-a7f0-4212-a269-f92c89e8d1d1",
   "metadata": {},
   "outputs": [
    {
     "name": "stdout",
     "output_type": "stream",
     "text": [
      "['i', 'a', 'o', 'e', 'o', 'e', 'a', 'a', 'i', 'e', 'i']\n",
      "total vowels is: 14\n"
     ]
    }
   ],
   "source": [
    "#Q5 Ans:\n",
    "s=\"i want to become data scientist\"\n",
    "l3=[]\n",
    "for i in s:\n",
    "    if i==\"a\" or i==\"e\" or i==\"i\" or i==\"o\" or i==\"u\":\n",
    "        l3.append(i)\n",
    "print(l3)\n",
    "a=l3.count(\"a\")\n",
    "b=l3.count(\"e\")\n",
    "c=l3.count(\"i\")\n",
    "d=l3.count(\"o\")\n",
    "e=l3.count(\"e\")\n",
    "f=a+b+c+d+e\n",
    "print(\"total vowels is:\",f)\n",
    "        "
   ]
  },
  {
   "cell_type": "code",
   "execution_count": null,
   "id": "edb70712-0491-4fb3-8579-08e4c77d8eb0",
   "metadata": {},
   "outputs": [],
   "source": []
  }
 ],
 "metadata": {
  "kernelspec": {
   "display_name": "Python 3 (ipykernel)",
   "language": "python",
   "name": "python3"
  },
  "language_info": {
   "codemirror_mode": {
    "name": "ipython",
    "version": 3
   },
   "file_extension": ".py",
   "mimetype": "text/x-python",
   "name": "python",
   "nbconvert_exporter": "python",
   "pygments_lexer": "ipython3",
   "version": "3.10.6"
  }
 },
 "nbformat": 4,
 "nbformat_minor": 5
}
